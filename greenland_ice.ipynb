{
 "cells": [
  {
   "cell_type": "markdown",
   "id": "2bce89c9",
   "metadata": {},
   "source": [
    "# Reporting on the Greenland ice sheets"
   ]
  },
  {
   "cell_type": "code",
   "execution_count": null,
   "id": "98ae1365",
   "metadata": {},
   "outputs": [],
   "source": [
    "# Don't change this cell; just run it.\n",
    "import numpy as np  # The array library.\n",
    "\n",
    "import pandas as pd\n",
    "pd.set_option('mode.copy_on_write', True)"
   ]
  },
  {
   "cell_type": "markdown",
   "id": "7cbd8c11",
   "metadata": {},
   "source": [
    "## How fast is Greenland ice melting?\n",
    "\n",
    "One effect of climate change is melting of large bodies of ice.  As concerned\n",
    "citizens, we want to evaluate the evidence on the progress of ice melt with\n",
    "global temperature changes.\n",
    "\n",
    "Fortunately, your fellow scientists do provide these data, as part of a data\n",
    "store called [\"Greenland ice sheet mass balance from 1840 through next\n",
    "week\"](https://dataverse.geus.dk/dataset.xhtml?persistentId=doi:10.22008/FK2/OHI23Z).\n",
    "\n",
    "There is an [associated paper with the same\n",
    "name](https://essd.copernicus.org/articles/13/5001/2021).\n",
    "\n",
    "Here is the primary figure highlighted at the top of the paper:\n",
    "\n",
    "![Mankoff figure 4](images/mankoff2021fig4.png)\n",
    "\n",
    "The paper as a whole has a Creative Commons Attribution 4.0 License, so we\n",
    "assume the figure does too, and we've given the attribution above.\n",
    "\n",
    "You can download the associated dataset yourself from the data store link\n",
    "above.  It is in the form of a `.zip` file that contains two `.csv` files and\n",
    "some other data. We have put copies of the `.csv` files in the `data`\n",
    "directory. We suggest you might start with the `data/MB_SMB_D_BMB_ann.csv`\n",
    "file:"
   ]
  },
  {
   "cell_type": "code",
   "execution_count": null,
   "id": "19bd1d18",
   "metadata": {},
   "outputs": [],
   "source": [
    "# Run this cell\n",
    "df = pd.read_csv('data/MB_SMB_D_BMB.csv')\n",
    "df"
   ]
  },
  {
   "cell_type": "markdown",
   "id": "fbb9420b",
   "metadata": {},
   "source": [
    "### First task — rough replication of the analysis\n",
    "\n",
    "Read the paper, and review the figure above.\n",
    "\n",
    "Use the downloaded data in the `data` folder to do a rough replication of the\n",
    "authors' estimate of cumulative ice mass change.  This is the dark line in the\n",
    "plot above.  Concentrate on the main figure covering 1970ish through 2021\n",
    "rather than the inset figure.  Assume that the authors were using the data they\n",
    "would have had when they submitted in April 2021.\n",
    "\n",
    "Put your code here to replicate the line from the main figure as well as you\n",
    "can given the authors description of what they did and the data.   It doesn't\n",
    "have to be perfect - just get as close as you reasonably can.\n",
    "\n",
    "**Hint** - do you need to make something into a datetime?\n",
    "\n",
    "**Hint** - consider investigation of the [rolling](https://pandas.pydata.org/pandas-docs/stable/reference/api/pandas.DataFrame.rolling.html) method of data frames.\n",
    "\n",
    "**Hint** - can you think of an efficient way to select the times you need?  What will you need to compare against?"
   ]
  },
  {
   "cell_type": "code",
   "execution_count": null,
   "id": "4e5f14b6",
   "metadata": {},
   "outputs": [],
   "source": [
    "#- Get as close as you can to the 1971 - April 2021 analysis.\n",
    "#- Your analysis here.\n",
    "#- Maybe consider ...\n",
    "start = ...\n",
    "stop = ..."
   ]
  },
  {
   "cell_type": "code",
   "execution_count": null,
   "id": "dbfe996d",
   "metadata": {},
   "outputs": [],
   "source": [
    "#- Maybe more code here"
   ]
  },
  {
   "cell_type": "markdown",
   "id": "692e34b3",
   "metadata": {},
   "source": [
    "### Second task — discuss the reporting\n",
    "\n",
    "Discuss and evaluate the figure in the paper, given the data the authors would\n",
    "have had in 2021.  Do you think it is a correct and reasonable summary of the\n",
    "data?  If not, what errors do you think they made and why?  Justify your\n",
    "conclusions.\n",
    "\n",
    "Write your answer here, replacing this text.\n",
    "\n",
    "Add any code you think would be useful and informative."
   ]
  },
  {
   "cell_type": "markdown",
   "id": "9a4025ce",
   "metadata": {},
   "source": [
    "### Third task — how would you report the *current* dataset\n",
    "\n",
    "Looking at the overall data, including the data that the authors did not yet have at the time they wrote the paper, how would you summarize the data?  What conclusions would you draw?\n",
    "\n",
    "Write your answer here, replacing this text.\n",
    "\n",
    "Add any code you think would be useful and informative."
   ]
  }
 ],
 "metadata": {
  "jupytext": {
   "notebook_metadata_filter": "all,-language_info",
   "split_at_heading": true,
   "text_representation": {
    "extension": ".Rmd",
    "format_name": "rmarkdown",
    "format_version": "1.2",
    "jupytext_version": "1.15.2"
   }
  },
  "kernelspec": {
   "display_name": "Python 3 (ipykernel)",
   "language": "python",
   "name": "python3"
  }
 },
 "nbformat": 4,
 "nbformat_minor": 5
}
